{
 "cells": [
  {
   "cell_type": "code",
   "execution_count": 1,
   "metadata": {},
   "outputs": [
    {
     "name": "stdout",
     "output_type": "stream",
     "text": [
      "233168\n"
     ]
    }
   ],
   "source": [
    "multiples = []\n",
    "\n",
    "for i in range(1,1000):\n",
    "    if i % 3 == 0:\n",
    "        multiples.append(i)\n",
    "        \n",
    "for j in range (1,1000):\n",
    "    if j % 5 == 0 and j not in multiples:\n",
    "        multiples.append(j)\n",
    "        \n",
    "print(sum(multiples))"
   ]
  },
  {
   "cell_type": "code",
   "execution_count": 2,
   "metadata": {},
   "outputs": [
    {
     "name": "stdout",
     "output_type": "stream",
     "text": [
      "233168\n"
     ]
    }
   ],
   "source": [
    "\n",
    "print(sum(x for x in range(1, 1000) if x % 3==0 or x % 5 == 0))"
   ]
  },
  {
   "cell_type": "markdown",
   "metadata": {},
   "source": [
    "2"
   ]
  },
  {
   "cell_type": "code",
   "execution_count": 3,
   "metadata": {},
   "outputs": [
    {
     "name": "stdout",
     "output_type": "stream",
     "text": [
      "4613732\n"
     ]
    }
   ],
   "source": [
    "a = []\n",
    "n = 0\n",
    "\n",
    "def F(n):\n",
    "    if n == 0: return 0\n",
    "    elif n == 1: return 1\n",
    "    else: return F(n-1)+F(n-2)\n",
    "    \n",
    "while F(n) < 4000000:\n",
    "    if F(n) % 2 == 0:\n",
    "        a.append(F(n))\n",
    "        n += 1\n",
    "    else:\n",
    "        n += 1\n",
    "\n",
    "print(sum(a))"
   ]
  },
  {
   "cell_type": "markdown",
   "metadata": {},
   "source": [
    "3"
   ]
  },
  {
   "cell_type": "code",
   "execution_count": 6,
   "metadata": {},
   "outputs": [
    {
     "name": "stdout",
     "output_type": "stream",
     "text": [
      "[71, 839, 1471, 6857]\n"
     ]
    }
   ],
   "source": [
    "##### import math\n",
    "\n",
    "factor = 600851475143\n",
    "a = []\n",
    "l=[]\n",
    "\n",
    "# Make a list of primes\n",
    "for num in range(2,10000):\n",
    "    if all(num%i!=0 for i in range(2,int(math.sqrt(num))+1)):\n",
    "        a.append(num)\n",
    "    \n",
    "for i in a:\n",
    "    if factor % i == 0:\n",
    "        l.append(i)\n",
    "        factor = factor / i\n",
    "    else:\n",
    "        None\n",
    "\n",
    "print(l)"
   ]
  },
  {
   "cell_type": "markdown",
   "metadata": {},
   "source": [
    "4"
   ]
  },
  {
   "cell_type": "code",
   "execution_count": 5,
   "metadata": {},
   "outputs": [
    {
     "name": "stdout",
     "output_type": "stream",
     "text": [
      "906609\n"
     ]
    }
   ],
   "source": [
    "def is_pal(number):\n",
    "    return int(str(number)[::-1]) == number\n",
    "\n",
    "maxpal = 0\n",
    "for i in range(999, 99, -1):\n",
    "    for j in range(i, 99, -1):\n",
    "        prod = i * j\n",
    "        if is_pal(prod) and prod > maxpal:\n",
    "            maxpal = prod\n",
    "\n",
    "print(maxpal)"
   ]
  },
  {
   "cell_type": "markdown",
   "metadata": {},
   "source": [
    "5"
   ]
  },
  {
   "cell_type": "code",
   "execution_count": 7,
   "metadata": {},
   "outputs": [
    {
     "name": "stdout",
     "output_type": "stream",
     "text": [
      "232792560\n"
     ]
    }
   ],
   "source": [
    "def multiple_1_20(n):\n",
    "    ismultiplo = True\n",
    "    for i in range(11, 21):\n",
    "        if not (n % i == 0):\n",
    "            ismultiplo = False\n",
    "    return ismultiplo\n",
    "\n",
    "n = 2520\n",
    "while True:\n",
    "    if multiple_1_20(n):\n",
    "        print(n)\n",
    "        break\n",
    "    n+=2520"
   ]
  },
  {
   "cell_type": "markdown",
   "metadata": {},
   "source": [
    "6"
   ]
  },
  {
   "cell_type": "code",
   "execution_count": 8,
   "metadata": {},
   "outputs": [
    {
     "data": {
      "text/plain": [
       "25164150"
      ]
     },
     "execution_count": 8,
     "metadata": {},
     "output_type": "execute_result"
    }
   ],
   "source": [
    "num_sum = []\n",
    "num_sq = []\n",
    "\n",
    "for i in range (1,101):\n",
    "    num_sum.append(i)\n",
    "    num_sq.append(i**2)\n",
    "    \n",
    "difference = sum(num_sum)**2 - sum(num_sq)\n",
    "\n",
    "difference"
   ]
  },
  {
   "cell_type": "markdown",
   "metadata": {},
   "source": [
    "7"
   ]
  },
  {
   "cell_type": "code",
   "execution_count": 10,
   "metadata": {},
   "outputs": [
    {
     "data": {
      "text/plain": [
       "104743"
      ]
     },
     "execution_count": 10,
     "metadata": {},
     "output_type": "execute_result"
    }
   ],
   "source": [
    "\n",
    "# The ham-fisted, computationally intensive way\n",
    "\n",
    "a = []\n",
    "\n",
    "for num in range(2,200000):\n",
    "    if all(num%i!=0 for i in range(2,int(math.sqrt(num))+1)):\n",
    "        a.append(num)\n",
    "\n",
    "a[10000]"
   ]
  },
  {
   "cell_type": "markdown",
   "metadata": {},
   "source": [
    "8"
   ]
  },
  {
   "cell_type": "code",
   "execution_count": 11,
   "metadata": {},
   "outputs": [
    {
     "name": "stdout",
     "output_type": "stream",
     "text": [
      "23514624000\n"
     ]
    }
   ],
   "source": [
    "# Biiiiiiig number\n",
    "\n",
    "number = '7316717653133062491922511967442657474235534919493496983520312774506326239578318016984801869478851843858615607891129494954595017379583319528532088055111254069874715852386305071569329096329522744304355766896648950445244523161731856403098711121722383113622298934233803081353362766142828064444866452387493035890729629049156044077239071381051585930796086670172427121883998797908792274921901699720888093776657273330010533678812202354218097512545405947522435258490771167055601360483958644670632441572215539753697817977846174064955149290862569321978468622482839722413756570560574902614079729686524145351004748216637048440319989000889524345065854122758866688116427171479924442928230863465674813919123162824586178664583591245665294765456828489128831426076900422421902267105562632111110937054421750694165896040807198403850962455444362981230987879927244284909188845801561660979191338754992005240636899125607176060588611646710940507754100225698315520005593572972571636269561882670428252483600823257530420752963450'\n",
    "\n",
    "largestProduct = 0\n",
    "\n",
    "for i in range(0, len(number) - 13):\n",
    "\n",
    "    product = 1\n",
    "\n",
    "    for j in range(i, i + 13):\n",
    "        product *= int(number[j: j + 1])\n",
    "\n",
    "    if product > largestProduct:\n",
    "        largestProduct = product\n",
    "\n",
    "print (largestProduct)"
   ]
  },
  {
   "cell_type": "markdown",
   "metadata": {},
   "source": [
    "9"
   ]
  },
  {
   "cell_type": "code",
   "execution_count": 12,
   "metadata": {},
   "outputs": [
    {
     "name": "stdout",
     "output_type": "stream",
     "text": [
      "200 375 425.0\n",
      "31875000.0\n"
     ]
    }
   ],
   "source": [
    "\n",
    "from math import sqrt\n",
    "\n",
    "def isTriplet(a,b):\n",
    "    return(sqrt(a**2 + b**2)*1.0).is_integer()\n",
    "\n",
    "def sums1000(a,b):\n",
    "    return a + b + sqrt(a**2 + b**2) == 1000\n",
    "\n",
    "for a in range(1,1000):\n",
    "    for b in range(a,1000):\n",
    "        if (isTriplet(a,b) and sums1000(a,b)):\n",
    "            c = sqrt(a**2 + b**2)\n",
    "            print(a,b,c)\n",
    "            print(a*b*c)"
   ]
  },
  {
   "cell_type": "code",
   "execution_count": 13,
   "metadata": {},
   "outputs": [
    {
     "name": "stdout",
     "output_type": "stream",
     "text": [
      "a = 200, b = 375, c = 425.  abc = 31875000\n"
     ]
    }
   ],
   "source": [
    "# a cleaner solution from the site forums\n",
    "\n",
    "def euler9():\n",
    "    # Ensure a < c\n",
    "    for c in range(2, 1000):\n",
    "        for a in range(1, c):\n",
    "            # Ensure a + b + c == 1000.  Since a is counting up, the first\n",
    "            # answer we find should have a <= b.\n",
    "            b = 1000 - c - a\n",
    "\n",
    "            # Ensure Pythagorean triple\n",
    "            if a**2 + b**2 == c**2:\n",
    "                print(\"a = %d, b = %d, c = %d.  abc = %d\" % (a, b, c, a * b * c))\n",
    "                return\n",
    "\n",
    "euler9()\n"
   ]
  },
  {
   "cell_type": "markdown",
   "metadata": {},
   "source": [
    "10"
   ]
  },
  {
   "cell_type": "code",
   "execution_count": 14,
   "metadata": {},
   "outputs": [
    {
     "name": "stdout",
     "output_type": "stream",
     "text": [
      "142913828922\n"
     ]
    }
   ],
   "source": [
    "\n",
    "a = []\n",
    "\n",
    "for num in range(2,2000000):\n",
    "    if all(num%i!=0 for i in range(2,int(math.sqrt(num))+1)):\n",
    "        a.append(num)\n",
    "        \n",
    "print(sum(a))"
   ]
  },
  {
   "cell_type": "code",
   "execution_count": null,
   "metadata": {},
   "outputs": [],
   "source": []
  }
 ],
 "metadata": {
  "kernelspec": {
   "display_name": "Python 3",
   "language": "python",
   "name": "python3"
  },
  "language_info": {
   "codemirror_mode": {
    "name": "ipython",
    "version": 3
   },
   "file_extension": ".py",
   "mimetype": "text/x-python",
   "name": "python",
   "nbconvert_exporter": "python",
   "pygments_lexer": "ipython3",
   "version": "3.7.3"
  }
 },
 "nbformat": 4,
 "nbformat_minor": 2
}
